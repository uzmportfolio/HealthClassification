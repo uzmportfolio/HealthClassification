{
 "cells": [
  {
   "cell_type": "markdown",
   "id": "7d0ab703-dca7-4315-92c3-a7d8870a3daa",
   "metadata": {},
   "source": [
    "# Healthy vs Unhealthy prediction system\n",
    "\n",
    "#### Aim:\n",
    "\n",
    "Finding the best machine learning algortithm to asses whether patients are at risk of having being unhealthy or not.\n",
    "\n",
    "Notes:\n",
    "    \n",
    "Unique ID - Refers to each individual patient that has been assessed  \n",
    "Outcome - This is the target. The number 0 represents the healthy patients and 1 represents the unhealthy patients."
   ]
  },
  {
   "cell_type": "markdown",
   "id": "abd709bd-ae12-41e1-810c-a97656aa4b43",
   "metadata": {
    "tags": []
   },
   "source": [
    "## Load our modules and load data into a dataframe:"
   ]
  },
  {
   "cell_type": "code",
   "execution_count": 1,
   "id": "6b045d94-4780-4f83-a825-50daf107f64f",
   "metadata": {
    "tags": []
   },
   "outputs": [],
   "source": [
    "# Importing necessary modules:\n",
    "\n",
    "import pandas as pd\n",
    "import numpy as np\n",
    "import seaborn as sns\n",
    "import matplotlib\n",
    "from matplotlib import pyplot as plt\n",
    "%matplotlib inline\n",
    "\n",
    "from sklearn import model_selection\n",
    "from sklearn.model_selection import train_test_split, cross_val_score, KFold, StratifiedKFold\n",
    "from sklearn.metrics         import confusion_matrix, accuracy_score, classification_report\n",
    "from sklearn.linear_model    import LogisticRegression\n",
    "from sklearn.tree            import DecisionTreeClassifier\n",
    "from sklearn.ensemble        import RandomForestClassifier\n",
    "from sklearn.neighbors       import KNeighborsClassifier\n",
    "from sklearn.discriminant_analysis import LinearDiscriminantAnalysis\n",
    "from sklearn.naive_bayes     import GaussianNB\n",
    "from sklearn.svm             import SVC\n",
    "\n",
    "import warnings\n",
    "warnings.filterwarnings('ignore')\n"
   ]
  },
  {
   "cell_type": "code",
   "execution_count": 2,
   "id": "1ab98ffe-9bc2-4d51-920a-5fc6fa8ce7d6",
   "metadata": {
    "tags": []
   },
   "outputs": [
    {
     "data": {
      "text/html": [
       "<div>\n",
       "<style scoped>\n",
       "    .dataframe tbody tr th:only-of-type {\n",
       "        vertical-align: middle;\n",
       "    }\n",
       "\n",
       "    .dataframe tbody tr th {\n",
       "        vertical-align: top;\n",
       "    }\n",
       "\n",
       "    .dataframe thead th {\n",
       "        text-align: right;\n",
       "    }\n",
       "</style>\n",
       "<table border=\"1\" class=\"dataframe\">\n",
       "  <thead>\n",
       "    <tr style=\"text-align: right;\">\n",
       "      <th></th>\n",
       "      <th>Unique_ID</th>\n",
       "      <th># Pregnancies</th>\n",
       "      <th>Blood Chemestry~I</th>\n",
       "      <th>Blood Chemisty~II</th>\n",
       "      <th>Blood Chemisty~III</th>\n",
       "      <th>Blood Pressure</th>\n",
       "      <th>Skin Thickness</th>\n",
       "      <th>BMI</th>\n",
       "      <th>Genetic Predisposition Factor</th>\n",
       "      <th>Age</th>\n",
       "      <th>Air Qual'ty Index</th>\n",
       "      <th>$tate</th>\n",
       "      <th>Outcome</th>\n",
       "    </tr>\n",
       "  </thead>\n",
       "  <tbody>\n",
       "    <tr>\n",
       "      <th>0</th>\n",
       "      <td>5642197</td>\n",
       "      <td>1</td>\n",
       "      <td>87.0</td>\n",
       "      <td>77.0</td>\n",
       "      <td>0</td>\n",
       "      <td>68</td>\n",
       "      <td>34.0</td>\n",
       "      <td>37.6</td>\n",
       "      <td>0.401</td>\n",
       "      <td>24</td>\n",
       "      <td>1.0</td>\n",
       "      <td>GA</td>\n",
       "      <td>0</td>\n",
       "    </tr>\n",
       "    <tr>\n",
       "      <th>1</th>\n",
       "      <td>5642863</td>\n",
       "      <td>3</td>\n",
       "      <td>187.0</td>\n",
       "      <td>200.0</td>\n",
       "      <td>0</td>\n",
       "      <td>70</td>\n",
       "      <td>22.0</td>\n",
       "      <td>36.4</td>\n",
       "      <td>0.408</td>\n",
       "      <td>36</td>\n",
       "      <td>6.0</td>\n",
       "      <td>CT</td>\n",
       "      <td>1</td>\n",
       "    </tr>\n",
       "    <tr>\n",
       "      <th>2</th>\n",
       "      <td>5642175</td>\n",
       "      <td>7</td>\n",
       "      <td>83.0</td>\n",
       "      <td>71.0</td>\n",
       "      <td>0</td>\n",
       "      <td>78</td>\n",
       "      <td>26.0</td>\n",
       "      <td>29.3</td>\n",
       "      <td>0.767</td>\n",
       "      <td>36</td>\n",
       "      <td>9.0</td>\n",
       "      <td>OR</td>\n",
       "      <td>0</td>\n",
       "    </tr>\n",
       "    <tr>\n",
       "      <th>3</th>\n",
       "      <td>5642237</td>\n",
       "      <td>4</td>\n",
       "      <td>92.0</td>\n",
       "      <td>0.0</td>\n",
       "      <td>0</td>\n",
       "      <td>80</td>\n",
       "      <td>0.0</td>\n",
       "      <td>42.2</td>\n",
       "      <td>0.237</td>\n",
       "      <td>29</td>\n",
       "      <td>11.0</td>\n",
       "      <td>NY</td>\n",
       "      <td>0</td>\n",
       "    </tr>\n",
       "    <tr>\n",
       "      <th>4</th>\n",
       "      <td>5642209</td>\n",
       "      <td>1</td>\n",
       "      <td>89.0</td>\n",
       "      <td>25.0</td>\n",
       "      <td>0</td>\n",
       "      <td>24</td>\n",
       "      <td>19.0</td>\n",
       "      <td>27.8</td>\n",
       "      <td>0.559</td>\n",
       "      <td>21</td>\n",
       "      <td>33.0</td>\n",
       "      <td>CA</td>\n",
       "      <td>0</td>\n",
       "    </tr>\n",
       "  </tbody>\n",
       "</table>\n",
       "</div>"
      ],
      "text/plain": [
       "   Unique_ID  # Pregnancies  Blood Chemestry~I  Blood Chemisty~II  \\\n",
       "0    5642197              1               87.0               77.0   \n",
       "1    5642863              3              187.0              200.0   \n",
       "2    5642175              7               83.0               71.0   \n",
       "3    5642237              4               92.0                0.0   \n",
       "4    5642209              1               89.0               25.0   \n",
       "\n",
       "   Blood Chemisty~III  Blood Pressure  Skin Thickness   BMI  \\\n",
       "0                   0              68            34.0  37.6   \n",
       "1                   0              70            22.0  36.4   \n",
       "2                   0              78            26.0  29.3   \n",
       "3                   0              80             0.0  42.2   \n",
       "4                   0              24            19.0  27.8   \n",
       "\n",
       "   Genetic Predisposition Factor  Age  Air Qual'ty Index $tate  Outcome  \n",
       "0                          0.401   24                1.0    GA        0  \n",
       "1                          0.408   36                6.0    CT        1  \n",
       "2                          0.767   36                9.0    OR        0  \n",
       "3                          0.237   29               11.0    NY        0  \n",
       "4                          0.559   21               33.0    CA        0  "
      ]
     },
     "execution_count": 2,
     "metadata": {},
     "output_type": "execute_result"
    }
   ],
   "source": [
    "data = pd.read_csv('patients_dataset.csv')\n",
    "data.head()"
   ]
  },
  {
   "cell_type": "markdown",
   "id": "7f1a0dd0-3bb2-4e6d-94ac-d0e3c9e26023",
   "metadata": {
    "tags": []
   },
   "source": [
    "### Taking a look at the data - data types\n",
    "\n",
    "Our dataset is mostly made up of numerical data variables and one categorical variable. We do not need to make any changes to the types, as they are already correctly inferred, as shown below.\n",
    "\n",
    "From the graph below, we can see that half as many people are unhealthy than those who are healthy. Therefore our dataset is skewed. A machine learning model will not be able to work to its best ability if the data is skewed."
   ]
  },
  {
   "cell_type": "code",
   "execution_count": 3,
   "id": "466e05d2-2aa4-4b01-95a4-9b2f3033d3b8",
   "metadata": {
    "tags": []
   },
   "outputs": [
    {
     "name": "stdout",
     "output_type": "stream",
     "text": [
      "Column datatypes: \n",
      "Unique_ID                          int64\n",
      "# Pregnancies                      int64\n",
      "Blood Chemestry~I                float64\n",
      "Blood Chemisty~II                float64\n",
      "Blood Chemisty~III                 int64\n",
      "Blood Pressure                     int64\n",
      "Skin Thickness                   float64\n",
      "BMI                              float64\n",
      "Genetic Predisposition Factor    float64\n",
      "Age                                int64\n",
      "Air Qual'ty Index                float64\n",
      "$tate                             object\n",
      "Outcome                            int64\n",
      "dtype: object\n"
     ]
    }
   ],
   "source": [
    "print(\"Column datatypes: \")\n",
    "print(data.dtypes)"
   ]
  },
  {
   "cell_type": "markdown",
   "id": "e70828bd-6657-42ce-9048-a7320bff12f2",
   "metadata": {},
   "source": [
    "#### Target Data"
   ]
  },
  {
   "cell_type": "code",
   "execution_count": 4,
   "id": "249748fa-7cda-4ef2-b8b0-e11c182df652",
   "metadata": {
    "tags": []
   },
   "outputs": [
    {
     "name": "stdout",
     "output_type": "stream",
     "text": [
      "Percentage of healthy patients: 34.9 % (1340 patients)\n",
      "Percentage of unhealthy patients:  65.1 % (2500 patients)\n"
     ]
    },
    {
     "data": {
      "image/png": "[encoded data removed]",
      "text/plain": [
       "<Figure size 432x288 with 1 Axes>"
      ]
     },
     "metadata": {
      "needs_background": "light"
     },
     "output_type": "display_data"
    }
   ],
   "source": [
    "x = pd.DataFrame(data.groupby(['Outcome'])['Outcome'].count())\n",
    "\n",
    "y = data['Outcome']\n",
    "print(f'Percentage of healthy patients: {round(y.value_counts(normalize=True)[1]*100,2)} % ({y.value_counts()[1]} patients)\\nPercentage of unhealthy patients:  {round(y.value_counts(normalize=True)[0]*100,2)} % ({y.value_counts()[0]} patients)' )\n",
    "\n",
    "objects = ('Healthy', 'Unhealthy')\n",
    "y_pos = np.arange(len(objects))\n",
    "performance = [x.Outcome[0], x.Outcome[1]]\n",
    "\n",
    "plt.bar(y_pos, performance, align='center', alpha=0.5)\n",
    "plt.xticks(y_pos, objects)\n",
    "plt.ylabel('No. of People')\n",
    "plt.title('Distribution of Healthy & Unhealthy people')\n",
    "\n",
    "plt.show()"
   ]
  },
  {
   "cell_type": "markdown",
   "id": "717dc9e8-7399-485d-915e-74477659d2d2",
   "metadata": {},
   "source": [
    "## Data Cleaning"
   ]
  },
  {
   "cell_type": "markdown",
   "id": "952b5c36-43fe-49ef-9878-134e4f7c0b62",
   "metadata": {},
   "source": [
    "Steps taken during data cleaning:\n",
    "\n",
    "1. The names of the columns of the dataset are not neat. We begin by dealing with any grammatical errors, spelling mistakes etc.\n",
    "2. The Unique_ID column refers to each patient that was tested, however there are duplicated values which must be removed.\n",
    "    Method:  \n",
    "    a. Find out how many unique values there are in the column. This is how many entries there should be in our dataframe.  \n",
    "    b. Drop any rows which are exact duplicates.  \n",
    "    c. For rows that are not exact duplicates, we find the column where there is a discrepency and check if there are any differences in the outcome value. If not, we can remove the column and hence the duplicated rows. \n",
    "3. Dealing with missing values."
   ]
  },
  {
   "cell_type": "markdown",
   "id": "745b4921-b7d9-459a-916b-b4d23700b2f3",
   "metadata": {},
   "source": [
    "#### Step 1. Column names"
   ]
  },
  {
   "cell_type": "code",
   "execution_count": 5,
   "id": "8c9d0aa4-69e7-4911-bb9e-cc18a796623a",
   "metadata": {},
   "outputs": [],
   "source": [
    "# Tidy up the names of the dataframe\n",
    "\n",
    "new_names =  {'# Pregnancies': 'Pregnancies',\n",
    "              'Blood Chemestry~I': 'BloodChemistryI',\n",
    "              'Blood Chemisty~II': 'BloodChemistryII',\n",
    "              'Blood Chemisty~III': 'BloodChemistryIII',\n",
    "              'Blood Pressure': 'BloodPressure',\n",
    "              'Skin Thickness': 'SkinThickness',\n",
    "              'Genetic Predisposition Factor': 'GeneticPredispositionFactor',\n",
    "              \"Air Qual'ty Index\": 'AirQualityIndex',\n",
    "              '$tate': 'State'}\n",
    "\n",
    "data.rename(columns = new_names, inplace = True)"
   ]
  },
  {
   "cell_type": "markdown",
   "id": "e4305929-a2d0-4c75-8867-083d2bc89315",
   "metadata": {},
   "source": [
    "#### Step 2. Duplicated values\n",
    "##### 2a."
   ]
  },
  {
   "cell_type": "code",
   "execution_count": 6,
   "id": "fbb8ea69-b87d-45c1-a003-aebfe0e796ad",
   "metadata": {},
   "outputs": [
    {
     "name": "stdout",
     "output_type": "stream",
     "text": [
      "Our initial dataset has 3840 entries\n",
      "Find out how many Unique_ID values exist: 768\n",
      "Is each entry in the dataframe, related to a unique ID? False\n"
     ]
    }
   ],
   "source": [
    "Unique_ID_list = data.Unique_ID.values.tolist()\n",
    "print(f\"Our initial dataset has {len(Unique_ID_list)} entries\")\n",
    "print(\"Find out how many Unique_ID values exist:\", len(list(set(Unique_ID_list))))\n",
    "print(\"Is each entry in the dataframe, related to a unique ID?\", data['Unique_ID'].is_unique)"
   ]
  },
  {
   "cell_type": "markdown",
   "id": "1ab8199f-b5ef-4e7a-83c4-3ff6612154e8",
   "metadata": {},
   "source": [
    "##### 2b."
   ]
  },
  {
   "cell_type": "code",
   "execution_count": 7,
   "id": "90220bff-9d09-4a2a-980c-bc2b97d671ff",
   "metadata": {},
   "outputs": [
    {
     "name": "stdout",
     "output_type": "stream",
     "text": [
      "Is each entry in the dataframe, related to a unique ID? False\n"
     ]
    }
   ],
   "source": [
    "df = data.drop_duplicates()\n",
    "print(\"Is each entry in the dataframe, related to a unique ID?\", df['Unique_ID'].is_unique)"
   ]
  },
  {
   "cell_type": "markdown",
   "id": "60047ae9-8bec-4555-9c43-dda05f1fc179",
   "metadata": {},
   "source": [
    "##### 2c.\n",
    "After looking at the dataset, we can notice that duplicates are mostly different on the 'Blood Chemisty~III' column. Therefore we can check to see if this is the only column with differences. This can be done by dropping the column and seeing if there are any duplicates. If we have 768 entries after dropping the column, it means there are no longer any duplicates. \n",
    "\n",
    "Note: This was tested and it was confirmed that the bloodchemistry3 column is the only column with differences. Therefore i have commented out the check, to be able to drop bloodchemistry3 in the next box of code.\n"
   ]
  },
  {
   "cell_type": "code",
   "execution_count": 8,
   "id": "13f81159-c3a8-417b-b6f3-3e3fa6b5e774",
   "metadata": {},
   "outputs": [],
   "source": [
    "# df.drop(\"BloodChemistryIII\", inplace = True, axis = 1)\n",
    "# blood_chem_3_check = df.drop_duplicates()\n",
    "# len(blood_chem_3_check)"
   ]
  },
  {
   "cell_type": "markdown",
   "id": "846bce15-c858-47fd-86b3-e4b5de60bf85",
   "metadata": {},
   "source": [
    "This confirms the blood chemisty III column is the only column with differences. Therefore we can spread these out into multiple columns."
   ]
  },
  {
   "cell_type": "code",
   "execution_count": 9,
   "id": "3ec4b5bb-0def-455c-ae4f-d5ff54de1e76",
   "metadata": {},
   "outputs": [
    {
     "name": "stdout",
     "output_type": "stream",
     "text": [
      "Number of rows for the blood chem 3 dataframe: 768\n",
      "length of dataframe after blood chem 3 column is dropped and duplicated rows are removed: 768\n",
      "length of final dataframe: 768\n"
     ]
    }
   ],
   "source": [
    "grouped = df.groupby('Unique_ID').agg({'BloodChemistryIII': list})\n",
    "grouped = pd.DataFrame(grouped[\"BloodChemistryIII\"].to_list(), columns=['BloodChemistryIII_1', 'BloodChemistryIII_2', 'BloodChemistryIII_3', 'BloodChemistryIII_4', 'BloodChemistryIII_5'])\n",
    "\n",
    "extracted_columns = grouped[['BloodChemistryIII_1', 'BloodChemistryIII_2', 'BloodChemistryIII_3', 'BloodChemistryIII_4', 'BloodChemistryIII_5']]\n",
    "\n",
    "print(\"Number of rows for the blood chem 3 dataframe:\", len(grouped))\n",
    "\n",
    "df.drop(\"BloodChemistryIII\", inplace = True, axis = 1)\n",
    "df = df.drop_duplicates()\n",
    "\n",
    "print(\"length of dataframe after blood chem 3 column is dropped and duplicated rows are removed:\", len(df))\n",
    "\n",
    "df = df.join(extracted_columns)\n",
    "print(\"length of final dataframe:\", len(df))"
   ]
  },
  {
   "cell_type": "markdown",
   "id": "9c4c16b8-f717-4aca-979c-e67a2bd97b8c",
   "metadata": {},
   "source": [
    "#### Step 3. Missing values\n",
    "\n",
    "From below, we can see that only a few columns have any null/missing values.  These are: \n",
    "1. BloodChemistryI, \n",
    "2. BloodChemistryII, \n",
    "3. SkinThickness,\n",
    "4. AirQualityIndex.\n",
    "5. BloodChemistryIII (1-5)"
   ]
  },
  {
   "cell_type": "code",
   "execution_count": 10,
   "id": "7ed20125-7d41-42bb-b9d1-174142149484",
   "metadata": {},
   "outputs": [
    {
     "data": {
      "text/html": [
       "<div>\n",
       "<style scoped>\n",
       "    .dataframe tbody tr th:only-of-type {\n",
       "        vertical-align: middle;\n",
       "    }\n",
       "\n",
       "    .dataframe tbody tr th {\n",
       "        vertical-align: top;\n",
       "    }\n",
       "\n",
       "    .dataframe thead th {\n",
       "        text-align: right;\n",
       "    }\n",
       "</style>\n",
       "<table border=\"1\" class=\"dataframe\">\n",
       "  <thead>\n",
       "    <tr style=\"text-align: right;\">\n",
       "      <th></th>\n",
       "      <th>Missing_Number</th>\n",
       "      <th>Missing_Percent</th>\n",
       "    </tr>\n",
       "  </thead>\n",
       "  <tbody>\n",
       "    <tr>\n",
       "      <th>BloodChemistryIII_5</th>\n",
       "      <td>268</td>\n",
       "      <td>0.348958</td>\n",
       "    </tr>\n",
       "    <tr>\n",
       "      <th>BloodChemistryIII_4</th>\n",
       "      <td>255</td>\n",
       "      <td>0.332031</td>\n",
       "    </tr>\n",
       "    <tr>\n",
       "      <th>BloodChemistryIII_3</th>\n",
       "      <td>254</td>\n",
       "      <td>0.330729</td>\n",
       "    </tr>\n",
       "    <tr>\n",
       "      <th>BloodChemistryIII_2</th>\n",
       "      <td>254</td>\n",
       "      <td>0.330729</td>\n",
       "    </tr>\n",
       "    <tr>\n",
       "      <th>BloodChemistryIII_1</th>\n",
       "      <td>254</td>\n",
       "      <td>0.330729</td>\n",
       "    </tr>\n",
       "    <tr>\n",
       "      <th>AirQualityIndex</th>\n",
       "      <td>6</td>\n",
       "      <td>0.007812</td>\n",
       "    </tr>\n",
       "    <tr>\n",
       "      <th>BloodChemistryI</th>\n",
       "      <td>5</td>\n",
       "      <td>0.006510</td>\n",
       "    </tr>\n",
       "    <tr>\n",
       "      <th>BloodChemistryII</th>\n",
       "      <td>2</td>\n",
       "      <td>0.002604</td>\n",
       "    </tr>\n",
       "    <tr>\n",
       "      <th>SkinThickness</th>\n",
       "      <td>1</td>\n",
       "      <td>0.001302</td>\n",
       "    </tr>\n",
       "    <tr>\n",
       "      <th>Outcome</th>\n",
       "      <td>0</td>\n",
       "      <td>0.000000</td>\n",
       "    </tr>\n",
       "    <tr>\n",
       "      <th>Unique_ID</th>\n",
       "      <td>0</td>\n",
       "      <td>0.000000</td>\n",
       "    </tr>\n",
       "    <tr>\n",
       "      <th>State</th>\n",
       "      <td>0</td>\n",
       "      <td>0.000000</td>\n",
       "    </tr>\n",
       "    <tr>\n",
       "      <th>Pregnancies</th>\n",
       "      <td>0</td>\n",
       "      <td>0.000000</td>\n",
       "    </tr>\n",
       "    <tr>\n",
       "      <th>GeneticPredispositionFactor</th>\n",
       "      <td>0</td>\n",
       "      <td>0.000000</td>\n",
       "    </tr>\n",
       "    <tr>\n",
       "      <th>BMI</th>\n",
       "      <td>0</td>\n",
       "      <td>0.000000</td>\n",
       "    </tr>\n",
       "    <tr>\n",
       "      <th>BloodPressure</th>\n",
       "      <td>0</td>\n",
       "      <td>0.000000</td>\n",
       "    </tr>\n",
       "    <tr>\n",
       "      <th>Age</th>\n",
       "      <td>0</td>\n",
       "      <td>0.000000</td>\n",
       "    </tr>\n",
       "  </tbody>\n",
       "</table>\n",
       "</div>"
      ],
      "text/plain": [
       "                             Missing_Number  Missing_Percent\n",
       "BloodChemistryIII_5                     268         0.348958\n",
       "BloodChemistryIII_4                     255         0.332031\n",
       "BloodChemistryIII_3                     254         0.330729\n",
       "BloodChemistryIII_2                     254         0.330729\n",
       "BloodChemistryIII_1                     254         0.330729\n",
       "AirQualityIndex                           6         0.007812\n",
       "BloodChemistryI                           5         0.006510\n",
       "BloodChemistryII                          2         0.002604\n",
       "SkinThickness                             1         0.001302\n",
       "Outcome                                   0         0.000000\n",
       "Unique_ID                                 0         0.000000\n",
       "State                                     0         0.000000\n",
       "Pregnancies                               0         0.000000\n",
       "GeneticPredispositionFactor               0         0.000000\n",
       "BMI                                       0         0.000000\n",
       "BloodPressure                             0         0.000000\n",
       "Age                                       0         0.000000"
      ]
     },
     "execution_count": 10,
     "metadata": {},
     "output_type": "execute_result"
    }
   ],
   "source": [
    "def missing (df):\n",
    "    missing_number = df.isnull().sum().sort_values(ascending=False)\n",
    "    missing_percent = (df.isnull().sum()/df.isnull().count()).sort_values(ascending=False)\n",
    "    missing_values = pd.concat([missing_number, missing_percent], axis=1, keys=['Missing_Number', 'Missing_Percent'])\n",
    "    return missing_values\n",
    "\n",
    "missing(df)"
   ]
  },
  {
   "cell_type": "markdown",
   "id": "dc33a424-06c2-4f47-93dd-c7b008100a9c",
   "metadata": {},
   "source": [
    "##### We use boxplots to understand the distribution of missing values. \n",
    "\n",
    "From the below box plots, we can see that BloodChemistryII has many outliers, so we do NOT use the mean as it will skew the data. Therefore we can use the modal value or median value. In this problem we have gone with the modal value for BloodChemistyII and mean values for BloodChemI, SkinThickness adn AirQualityIndex.\n",
    "\n",
    "For the BloodChemistryIII columns we have left the empty boxes as NaN/0\n",
    "\n",
    "As the other box plots do not have many outliers, we use their mean value."
   ]
  },
  {
   "cell_type": "code",
   "execution_count": 11,
   "id": "652c8e78-eef3-4a66-ac03-f9ea926e2676",
   "metadata": {},
   "outputs": [
    {
     "data": {
      "image/png": "[encoded data removed]",
      "text/plain": [
       "<Figure size 540x252 with 1 Axes>"
      ]
     },
     "metadata": {
      "needs_background": "light"
     },
     "output_type": "display_data"
    }
   ],
   "source": [
    "import pandas as pd\n",
    "import numpy as np\n",
    "from matplotlib import pyplot as plt\n",
    "\n",
    "# Set the figure size\n",
    "plt.rcParams[\"figure.figsize\"] = [7.50, 3.50]\n",
    "plt.rcParams[\"figure.autolayout\"] = True\n",
    "\n",
    "# Pandas dataframe\n",
    "# data = pd.DataFrame({\"Box1\": np.random.rand(10), \"Box2\": np.random.rand(10)})\n",
    "\n",
    "# Plot the dataframe\n",
    "ax = data[['BloodChemistryII', 'BloodChemistryI',\n",
    "          'AirQualityIndex','SkinThickness']].plot(kind='box', title='boxplot')\n",
    "\n",
    "# Display the plot\n",
    "plt.show()"
   ]
  },
  {
   "cell_type": "code",
   "execution_count": 12,
   "id": "8d7f6658-0618-43eb-9fe0-c141419b18d7",
   "metadata": {},
   "outputs": [],
   "source": [
    "df['BloodChemistryII'] = df['BloodChemistryII'].fillna(df['BloodChemistryII'].mode()[0])\n"
   ]
  },
  {
   "cell_type": "code",
   "execution_count": 13,
   "id": "60ecc808-3cbb-4345-8e49-719477597f0d",
   "metadata": {},
   "outputs": [],
   "source": [
    "mean_value_BloodChemistryI = df['BloodChemistryI'].mean()\n",
    "mean_value_SkinThickness = df['SkinThickness'].mean()\n",
    "mean_value_AirQualityIndex = df['AirQualityIndex'].mean()\n",
    "\n",
    "df['BloodChemistryI'].fillna(value=mean_value_BloodChemistryI, inplace=True)\n",
    "df['SkinThickness'].fillna(value=mean_value_SkinThickness, inplace=True)\n",
    "df['AirQualityIndex'].fillna(value=mean_value_AirQualityIndex, inplace=True)\n",
    "\n"
   ]
  },
  {
   "cell_type": "code",
   "execution_count": 14,
   "id": "5004ea93-294b-4196-b8c5-dddae4386900",
   "metadata": {},
   "outputs": [
    {
     "data": {
      "image/png": "[encoded data removed]",
      "text/plain": [
       "<Figure size 540x252 with 1 Axes>"
      ]
     },
     "metadata": {
      "needs_background": "light"
     },
     "output_type": "display_data"
    }
   ],
   "source": [
    "np.random.seed(1234)\n",
    "\n",
    "boxplot = df.boxplot(column=['BloodChemistryIII_1', 'BloodChemistryIII_2', 'BloodChemistryIII_3', \n",
    "                             'BloodChemistryIII_4','BloodChemistryIII_5'])  "
   ]
  },
  {
   "cell_type": "code",
   "execution_count": 15,
   "id": "bb3c0229-3a39-48b0-8572-f7dd1e9856d9",
   "metadata": {},
   "outputs": [],
   "source": [
    "df = df.fillna(0)"
   ]
  },
  {
   "cell_type": "code",
   "execution_count": 16,
   "id": "73ec1051-06c3-45e1-a541-1207131541f4",
   "metadata": {},
   "outputs": [],
   "source": [
    "#Can check the remaining missing values:\n",
    "# missing(df)"
   ]
  },
  {
   "cell_type": "markdown",
   "id": "533d6fac-ed14-4a47-bf24-3e192c1d14e7",
   "metadata": {},
   "source": [
    "# Categorical Data"
   ]
  },
  {
   "cell_type": "markdown",
   "id": "3b48a89d-c691-421d-9d32-0654c662a2b1",
   "metadata": {},
   "source": [
    "##### We only have one categorical data column, which is the State. We use the mutual information score to assess how useful it is in our dataframe. The closer to zero, the less useful the score. If this is the case (SPOILER! it is), we drop this column from our dataset.\n",
    "\n",
    "The updated dataframe is shown below. "
   ]
  },
  {
   "cell_type": "code",
   "execution_count": 17,
   "id": "3452b10f-542b-40e8-a3e6-45cd06e06715",
   "metadata": {
    "tags": []
   },
   "outputs": [
    {
     "name": "stdout",
     "output_type": "stream",
     "text": [
      "The Mutual Information Score is:  0.04856527735963032\n"
     ]
    },
    {
     "data": {
      "text/html": [
       "<div>\n",
       "<style scoped>\n",
       "    .dataframe tbody tr th:only-of-type {\n",
       "        vertical-align: middle;\n",
       "    }\n",
       "\n",
       "    .dataframe tbody tr th {\n",
       "        vertical-align: top;\n",
       "    }\n",
       "\n",
       "    .dataframe thead th {\n",
       "        text-align: right;\n",
       "    }\n",
       "</style>\n",
       "<table border=\"1\" class=\"dataframe\">\n",
       "  <thead>\n",
       "    <tr style=\"text-align: right;\">\n",
       "      <th></th>\n",
       "      <th>Unique_ID</th>\n",
       "      <th>Pregnancies</th>\n",
       "      <th>BloodChemistryI</th>\n",
       "      <th>BloodChemistryII</th>\n",
       "      <th>BloodPressure</th>\n",
       "      <th>SkinThickness</th>\n",
       "      <th>BMI</th>\n",
       "      <th>GeneticPredispositionFactor</th>\n",
       "      <th>Age</th>\n",
       "      <th>AirQualityIndex</th>\n",
       "      <th>Outcome</th>\n",
       "      <th>BloodChemistryIII_1</th>\n",
       "      <th>BloodChemistryIII_2</th>\n",
       "      <th>BloodChemistryIII_3</th>\n",
       "      <th>BloodChemistryIII_4</th>\n",
       "      <th>BloodChemistryIII_5</th>\n",
       "    </tr>\n",
       "  </thead>\n",
       "  <tbody>\n",
       "    <tr>\n",
       "      <th>0</th>\n",
       "      <td>5642197</td>\n",
       "      <td>1</td>\n",
       "      <td>87.0</td>\n",
       "      <td>77.0</td>\n",
       "      <td>68</td>\n",
       "      <td>34.0</td>\n",
       "      <td>37.6</td>\n",
       "      <td>0.401</td>\n",
       "      <td>24</td>\n",
       "      <td>1.0</td>\n",
       "      <td>0</td>\n",
       "      <td>10.0</td>\n",
       "      <td>22.0</td>\n",
       "      <td>45.0</td>\n",
       "      <td>228.0</td>\n",
       "      <td>333.0</td>\n",
       "    </tr>\n",
       "    <tr>\n",
       "      <th>1</th>\n",
       "      <td>5642863</td>\n",
       "      <td>3</td>\n",
       "      <td>187.0</td>\n",
       "      <td>200.0</td>\n",
       "      <td>70</td>\n",
       "      <td>22.0</td>\n",
       "      <td>36.4</td>\n",
       "      <td>0.408</td>\n",
       "      <td>36</td>\n",
       "      <td>6.0</td>\n",
       "      <td>1</td>\n",
       "      <td>61.0</td>\n",
       "      <td>146.0</td>\n",
       "      <td>193.0</td>\n",
       "      <td>338.0</td>\n",
       "      <td>342.0</td>\n",
       "    </tr>\n",
       "    <tr>\n",
       "      <th>2</th>\n",
       "      <td>5642175</td>\n",
       "      <td>7</td>\n",
       "      <td>83.0</td>\n",
       "      <td>71.0</td>\n",
       "      <td>78</td>\n",
       "      <td>26.0</td>\n",
       "      <td>29.3</td>\n",
       "      <td>0.767</td>\n",
       "      <td>36</td>\n",
       "      <td>9.0</td>\n",
       "      <td>0</td>\n",
       "      <td>56.0</td>\n",
       "      <td>96.0</td>\n",
       "      <td>115.0</td>\n",
       "      <td>172.0</td>\n",
       "      <td>229.0</td>\n",
       "    </tr>\n",
       "    <tr>\n",
       "      <th>3</th>\n",
       "      <td>5642237</td>\n",
       "      <td>4</td>\n",
       "      <td>92.0</td>\n",
       "      <td>0.0</td>\n",
       "      <td>80</td>\n",
       "      <td>0.0</td>\n",
       "      <td>42.2</td>\n",
       "      <td>0.237</td>\n",
       "      <td>29</td>\n",
       "      <td>11.0</td>\n",
       "      <td>0</td>\n",
       "      <td>64.0</td>\n",
       "      <td>66.0</td>\n",
       "      <td>86.0</td>\n",
       "      <td>207.0</td>\n",
       "      <td>245.0</td>\n",
       "    </tr>\n",
       "    <tr>\n",
       "      <th>4</th>\n",
       "      <td>5642209</td>\n",
       "      <td>1</td>\n",
       "      <td>89.0</td>\n",
       "      <td>25.0</td>\n",
       "      <td>24</td>\n",
       "      <td>19.0</td>\n",
       "      <td>27.8</td>\n",
       "      <td>0.559</td>\n",
       "      <td>21</td>\n",
       "      <td>33.0</td>\n",
       "      <td>0</td>\n",
       "      <td>33.0</td>\n",
       "      <td>114.0</td>\n",
       "      <td>150.0</td>\n",
       "      <td>286.0</td>\n",
       "      <td>313.0</td>\n",
       "    </tr>\n",
       "    <tr>\n",
       "      <th>...</th>\n",
       "      <td>...</td>\n",
       "      <td>...</td>\n",
       "      <td>...</td>\n",
       "      <td>...</td>\n",
       "      <td>...</td>\n",
       "      <td>...</td>\n",
       "      <td>...</td>\n",
       "      <td>...</td>\n",
       "      <td>...</td>\n",
       "      <td>...</td>\n",
       "      <td>...</td>\n",
       "      <td>...</td>\n",
       "      <td>...</td>\n",
       "      <td>...</td>\n",
       "      <td>...</td>\n",
       "      <td>...</td>\n",
       "    </tr>\n",
       "    <tr>\n",
       "      <th>2533</th>\n",
       "      <td>5642475</td>\n",
       "      <td>2</td>\n",
       "      <td>123.0</td>\n",
       "      <td>165.0</td>\n",
       "      <td>48</td>\n",
       "      <td>32.0</td>\n",
       "      <td>42.1</td>\n",
       "      <td>0.520</td>\n",
       "      <td>26</td>\n",
       "      <td>89.0</td>\n",
       "      <td>0</td>\n",
       "      <td>0.0</td>\n",
       "      <td>0.0</td>\n",
       "      <td>0.0</td>\n",
       "      <td>0.0</td>\n",
       "      <td>0.0</td>\n",
       "    </tr>\n",
       "    <tr>\n",
       "      <th>2559</th>\n",
       "      <td>5642685</td>\n",
       "      <td>1</td>\n",
       "      <td>119.0</td>\n",
       "      <td>220.0</td>\n",
       "      <td>86</td>\n",
       "      <td>39.0</td>\n",
       "      <td>45.6</td>\n",
       "      <td>0.808</td>\n",
       "      <td>29</td>\n",
       "      <td>63.0</td>\n",
       "      <td>1</td>\n",
       "      <td>0.0</td>\n",
       "      <td>0.0</td>\n",
       "      <td>0.0</td>\n",
       "      <td>0.0</td>\n",
       "      <td>0.0</td>\n",
       "    </tr>\n",
       "    <tr>\n",
       "      <th>2685</th>\n",
       "      <td>5642210</td>\n",
       "      <td>1</td>\n",
       "      <td>89.0</td>\n",
       "      <td>94.0</td>\n",
       "      <td>66</td>\n",
       "      <td>23.0</td>\n",
       "      <td>28.1</td>\n",
       "      <td>0.167</td>\n",
       "      <td>21</td>\n",
       "      <td>84.0</td>\n",
       "      <td>0</td>\n",
       "      <td>0.0</td>\n",
       "      <td>0.0</td>\n",
       "      <td>0.0</td>\n",
       "      <td>0.0</td>\n",
       "      <td>0.0</td>\n",
       "    </tr>\n",
       "    <tr>\n",
       "      <th>2733</th>\n",
       "      <td>5642438</td>\n",
       "      <td>1</td>\n",
       "      <td>117.0</td>\n",
       "      <td>106.0</td>\n",
       "      <td>60</td>\n",
       "      <td>23.0</td>\n",
       "      <td>33.8</td>\n",
       "      <td>0.466</td>\n",
       "      <td>27</td>\n",
       "      <td>50.0</td>\n",
       "      <td>0</td>\n",
       "      <td>0.0</td>\n",
       "      <td>0.0</td>\n",
       "      <td>0.0</td>\n",
       "      <td>0.0</td>\n",
       "      <td>0.0</td>\n",
       "    </tr>\n",
       "    <tr>\n",
       "      <th>3191</th>\n",
       "      <td>5642606</td>\n",
       "      <td>7</td>\n",
       "      <td>179.0</td>\n",
       "      <td>0.0</td>\n",
       "      <td>95</td>\n",
       "      <td>31.0</td>\n",
       "      <td>34.2</td>\n",
       "      <td>0.164</td>\n",
       "      <td>60</td>\n",
       "      <td>77.0</td>\n",
       "      <td>0</td>\n",
       "      <td>0.0</td>\n",
       "      <td>0.0</td>\n",
       "      <td>0.0</td>\n",
       "      <td>0.0</td>\n",
       "      <td>0.0</td>\n",
       "    </tr>\n",
       "  </tbody>\n",
       "</table>\n",
       "<p>768 rows × 16 columns</p>\n",
       "</div>"
      ],
      "text/plain": [
       "      Unique_ID  Pregnancies  BloodChemistryI  BloodChemistryII  \\\n",
       "0       5642197            1             87.0              77.0   \n",
       "1       5642863            3            187.0             200.0   \n",
       "2       5642175            7             83.0              71.0   \n",
       "3       5642237            4             92.0               0.0   \n",
       "4       5642209            1             89.0              25.0   \n",
       "...         ...          ...              ...               ...   \n",
       "2533    5642475            2            123.0             165.0   \n",
       "2559    5642685            1            119.0             220.0   \n",
       "2685    5642210            1             89.0              94.0   \n",
       "2733    5642438            1            117.0             106.0   \n",
       "3191    5642606            7            179.0               0.0   \n",
       "\n",
       "      BloodPressure  SkinThickness   BMI  GeneticPredispositionFactor  Age  \\\n",
       "0                68           34.0  37.6                        0.401   24   \n",
       "1                70           22.0  36.4                        0.408   36   \n",
       "2                78           26.0  29.3                        0.767   36   \n",
       "3                80            0.0  42.2                        0.237   29   \n",
       "4                24           19.0  27.8                        0.559   21   \n",
       "...             ...            ...   ...                          ...  ...   \n",
       "2533             48           32.0  42.1                        0.520   26   \n",
       "2559             86           39.0  45.6                        0.808   29   \n",
       "2685             66           23.0  28.1                        0.167   21   \n",
       "2733             60           23.0  33.8                        0.466   27   \n",
       "3191             95           31.0  34.2                        0.164   60   \n",
       "\n",
       "      AirQualityIndex  Outcome  BloodChemistryIII_1  BloodChemistryIII_2  \\\n",
       "0                 1.0        0                 10.0                 22.0   \n",
       "1                 6.0        1                 61.0                146.0   \n",
       "2                 9.0        0                 56.0                 96.0   \n",
       "3                11.0        0                 64.0                 66.0   \n",
       "4                33.0        0                 33.0                114.0   \n",
       "...               ...      ...                  ...                  ...   \n",
       "2533             89.0        0                  0.0                  0.0   \n",
       "2559             63.0        1                  0.0                  0.0   \n",
       "2685             84.0        0                  0.0                  0.0   \n",
       "2733             50.0        0                  0.0                  0.0   \n",
       "3191             77.0        0                  0.0                  0.0   \n",
       "\n",
       "      BloodChemistryIII_3  BloodChemistryIII_4  BloodChemistryIII_5  \n",
       "0                    45.0                228.0                333.0  \n",
       "1                   193.0                338.0                342.0  \n",
       "2                   115.0                172.0                229.0  \n",
       "3                    86.0                207.0                245.0  \n",
       "4                   150.0                286.0                313.0  \n",
       "...                   ...                  ...                  ...  \n",
       "2533                  0.0                  0.0                  0.0  \n",
       "2559                  0.0                  0.0                  0.0  \n",
       "2685                  0.0                  0.0                  0.0  \n",
       "2733                  0.0                  0.0                  0.0  \n",
       "3191                  0.0                  0.0                  0.0  \n",
       "\n",
       "[768 rows x 16 columns]"
      ]
     },
     "execution_count": 17,
     "metadata": {},
     "output_type": "execute_result"
    }
   ],
   "source": [
    "from sklearn.metrics import mutual_info_score\n",
    "mis = mutual_info_score(df['State'], df['Outcome']) \n",
    "print(\"The Mutual Information Score is: \", mis)\n",
    "df.drop(\"State\", inplace = True, axis = 1)\n",
    "df"
   ]
  },
  {
   "cell_type": "markdown",
   "id": "ab32e4fa-7c61-49ee-bcd0-78e9cf6fb6ee",
   "metadata": {
    "tags": []
   },
   "source": [
    "# Visual Analysis of Numerical Data\n",
    "\n",
    "##### We now look at the numerical data columns. \n",
    "\n",
    "Steps:\n",
    "\n",
    "1. Summarise the statistical measures for each column. \n",
    "2. Understand how the data is skewed and the effects on the result of our prediction model."
   ]
  },
  {
   "cell_type": "markdown",
   "id": "3b7fef82-ba1c-4541-9e63-ec2f960d7009",
   "metadata": {},
   "source": [
    "##### Step 1. Statistical summary"
   ]
  },
  {
   "cell_type": "code",
   "execution_count": 18,
   "id": "4555842f-654b-4bdb-8dc6-6d459f200452",
   "metadata": {
    "_kg_hide-input": true,
    "papermill": {
     "duration": 0.125577,
     "end_time": "2021-08-13T04:24:35.797521",
     "exception": false,
     "start_time": "2021-08-13T04:24:35.671944",
     "status": "completed"
    },
    "tags": []
   },
   "outputs": [
    {
     "data": {
      "text/html": [
       "<div>\n",
       "<style scoped>\n",
       "    .dataframe tbody tr th:only-of-type {\n",
       "        vertical-align: middle;\n",
       "    }\n",
       "\n",
       "    .dataframe tbody tr th {\n",
       "        vertical-align: top;\n",
       "    }\n",
       "\n",
       "    .dataframe thead th {\n",
       "        text-align: right;\n",
       "    }\n",
       "</style>\n",
       "<table border=\"1\" class=\"dataframe\">\n",
       "  <thead>\n",
       "    <tr style=\"text-align: right;\">\n",
       "      <th></th>\n",
       "      <th>Pregnancies</th>\n",
       "      <th>BloodChemistryI</th>\n",
       "      <th>BloodChemistryII</th>\n",
       "      <th>BloodPressure</th>\n",
       "      <th>SkinThickness</th>\n",
       "      <th>BMI</th>\n",
       "      <th>GeneticPredispositionFactor</th>\n",
       "      <th>Age</th>\n",
       "      <th>AirQualityIndex</th>\n",
       "    </tr>\n",
       "  </thead>\n",
       "  <tbody>\n",
       "    <tr>\n",
       "      <th>count</th>\n",
       "      <td>768.000000</td>\n",
       "      <td>768.000000</td>\n",
       "      <td>768.000000</td>\n",
       "      <td>768.000000</td>\n",
       "      <td>768.000000</td>\n",
       "      <td>768.000000</td>\n",
       "      <td>768.000000</td>\n",
       "      <td>768.000000</td>\n",
       "      <td>768.000000</td>\n",
       "    </tr>\n",
       "    <tr>\n",
       "      <th>mean</th>\n",
       "      <td>3.845052</td>\n",
       "      <td>120.917431</td>\n",
       "      <td>79.611979</td>\n",
       "      <td>69.105469</td>\n",
       "      <td>20.542373</td>\n",
       "      <td>31.992578</td>\n",
       "      <td>0.471876</td>\n",
       "      <td>33.513021</td>\n",
       "      <td>49.107612</td>\n",
       "    </tr>\n",
       "    <tr>\n",
       "      <th>std</th>\n",
       "      <td>3.369578</td>\n",
       "      <td>31.933311</td>\n",
       "      <td>115.256555</td>\n",
       "      <td>19.355807</td>\n",
       "      <td>15.951375</td>\n",
       "      <td>7.884160</td>\n",
       "      <td>0.331329</td>\n",
       "      <td>13.729833</td>\n",
       "      <td>29.065882</td>\n",
       "    </tr>\n",
       "    <tr>\n",
       "      <th>min</th>\n",
       "      <td>0.000000</td>\n",
       "      <td>0.000000</td>\n",
       "      <td>0.000000</td>\n",
       "      <td>0.000000</td>\n",
       "      <td>0.000000</td>\n",
       "      <td>0.000000</td>\n",
       "      <td>0.078000</td>\n",
       "      <td>21.000000</td>\n",
       "      <td>0.000000</td>\n",
       "    </tr>\n",
       "    <tr>\n",
       "      <th>25%</th>\n",
       "      <td>1.000000</td>\n",
       "      <td>99.000000</td>\n",
       "      <td>0.000000</td>\n",
       "      <td>62.000000</td>\n",
       "      <td>0.000000</td>\n",
       "      <td>27.300000</td>\n",
       "      <td>0.243750</td>\n",
       "      <td>24.000000</td>\n",
       "      <td>24.000000</td>\n",
       "    </tr>\n",
       "    <tr>\n",
       "      <th>50%</th>\n",
       "      <td>3.000000</td>\n",
       "      <td>117.000000</td>\n",
       "      <td>27.000000</td>\n",
       "      <td>72.000000</td>\n",
       "      <td>23.000000</td>\n",
       "      <td>32.000000</td>\n",
       "      <td>0.372500</td>\n",
       "      <td>29.000000</td>\n",
       "      <td>49.107612</td>\n",
       "    </tr>\n",
       "    <tr>\n",
       "      <th>75%</th>\n",
       "      <td>6.000000</td>\n",
       "      <td>140.250000</td>\n",
       "      <td>126.250000</td>\n",
       "      <td>80.000000</td>\n",
       "      <td>32.000000</td>\n",
       "      <td>36.600000</td>\n",
       "      <td>0.626250</td>\n",
       "      <td>41.000000</td>\n",
       "      <td>72.000000</td>\n",
       "    </tr>\n",
       "    <tr>\n",
       "      <th>max</th>\n",
       "      <td>17.000000</td>\n",
       "      <td>199.000000</td>\n",
       "      <td>846.000000</td>\n",
       "      <td>122.000000</td>\n",
       "      <td>99.000000</td>\n",
       "      <td>67.100000</td>\n",
       "      <td>2.420000</td>\n",
       "      <td>230.000000</td>\n",
       "      <td>100.000000</td>\n",
       "    </tr>\n",
       "  </tbody>\n",
       "</table>\n",
       "</div>"
      ],
      "text/plain": [
       "       Pregnancies  BloodChemistryI  BloodChemistryII  BloodPressure  \\\n",
       "count   768.000000       768.000000        768.000000     768.000000   \n",
       "mean      3.845052       120.917431         79.611979      69.105469   \n",
       "std       3.369578        31.933311        115.256555      19.355807   \n",
       "min       0.000000         0.000000          0.000000       0.000000   \n",
       "25%       1.000000        99.000000          0.000000      62.000000   \n",
       "50%       3.000000       117.000000         27.000000      72.000000   \n",
       "75%       6.000000       140.250000        126.250000      80.000000   \n",
       "max      17.000000       199.000000        846.000000     122.000000   \n",
       "\n",
       "       SkinThickness         BMI  GeneticPredispositionFactor         Age  \\\n",
       "count     768.000000  768.000000                   768.000000  768.000000   \n",
       "mean       20.542373   31.992578                     0.471876   33.513021   \n",
       "std        15.951375    7.884160                     0.331329   13.729833   \n",
       "min         0.000000    0.000000                     0.078000   21.000000   \n",
       "25%         0.000000   27.300000                     0.243750   24.000000   \n",
       "50%        23.000000   32.000000                     0.372500   29.000000   \n",
       "75%        32.000000   36.600000                     0.626250   41.000000   \n",
       "max        99.000000   67.100000                     2.420000  230.000000   \n",
       "\n",
       "       AirQualityIndex  \n",
       "count       768.000000  \n",
       "mean         49.107612  \n",
       "std          29.065882  \n",
       "min           0.000000  \n",
       "25%          24.000000  \n",
       "50%          49.107612  \n",
       "75%          72.000000  \n",
       "max         100.000000  "
      ]
     },
     "execution_count": 18,
     "metadata": {},
     "output_type": "execute_result"
    }
   ],
   "source": [
    "numerical = ['Pregnancies', 'BloodChemistryI', 'BloodChemistryII','BloodPressure','SkinThickness',\n",
    "               'BMI','GeneticPredispositionFactor','Age','AirQualityIndex']\n",
    "\n",
    "df[numerical].describe()"
   ]
  },
  {
   "cell_type": "markdown",
   "id": "1e2928e6-8657-432f-bc67-5da67f22925a",
   "metadata": {
    "papermill": {
     "duration": 0.097193,
     "end_time": "2021-08-13T04:24:36.191890",
     "exception": false,
     "start_time": "2021-08-13T04:24:36.094697",
     "status": "completed"
    },
    "tags": []
   },
   "source": [
    "##### Step 2. Skewness\n",
    "\n",
    "Based on the skewness values below, we can see that air quality is the least skewed set of data. Age should also be more flatlined, but instead has a strong positive skew shape. This is likely to negatively affect our results and lead to overfitting. The positive skew for pregnancies is expected, especially considering the age of the people being questioned.\n",
    "\n",
    "Data such as gender, glucose levels, income etc is likely to tell us more information when paired with the existing dataset. If we were to collect more data, these are factors i think would be worth considering."
   ]
  },
  {
   "cell_type": "code",
   "execution_count": 19,
   "id": "aede3f68-26d6-47bf-9840-39eec98ffeec",
   "metadata": {
    "_kg_hide-input": true,
    "papermill": {
     "duration": 0.113023,
     "end_time": "2021-08-13T04:24:36.403457",
     "exception": false,
     "start_time": "2021-08-13T04:24:36.290434",
     "status": "completed"
    },
    "tags": []
   },
   "outputs": [
    {
     "data": {
      "text/plain": [
       "Pregnancies                    0.901674\n",
       "BloodChemistryI                0.173364\n",
       "BloodChemistryII               2.275742\n",
       "BloodPressure                 -1.843608\n",
       "SkinThickness                  0.108305\n",
       "BMI                           -0.428982\n",
       "GeneticPredispositionFactor    1.919911\n",
       "Age                            4.498376\n",
       "AirQualityIndex               -0.008394\n",
       "dtype: float64"
      ]
     },
     "execution_count": 19,
     "metadata": {},
     "output_type": "execute_result"
    }
   ],
   "source": [
    "df[numerical].skew()"
   ]
  },
  {
   "cell_type": "code",
   "execution_count": 20,
   "id": "09a72035-bb2b-4202-acbb-ed364cd475f9",
   "metadata": {
    "_kg_hide-input": true,
    "papermill": {
     "duration": 0.580159,
     "end_time": "2021-08-13T04:24:37.474684",
     "exception": false,
     "start_time": "2021-08-13T04:24:36.894525",
     "status": "completed"
    },
    "tags": []
   },
   "outputs": [
    {
     "data": {
      "image/png": "[encoded data removed]",
      "text/plain": [
       "<Figure size 720x720 with 9 Axes>"
      ]
     },
     "metadata": {
      "needs_background": "light"
     },
     "output_type": "display_data"
    }
   ],
   "source": [
    "df[numerical].hist(figsize=(10,10));"
   ]
  },
  {
   "cell_type": "markdown",
   "id": "e682f260-0930-4946-9118-da1e55102423",
   "metadata": {},
   "source": [
    "### Correlation between all columns:"
   ]
  },
  {
   "cell_type": "markdown",
   "id": "bd0b5a1a-1a64-440d-bbf4-d97f29e1c405",
   "metadata": {},
   "source": [
    "We use a correlation heatmap to see how well each column correlates with one another, as well as with the outcome of the dataset. The further away the correlation coefficient is from zero, the stronger the relationship between the two variables."
   ]
  },
  {
   "cell_type": "code",
   "execution_count": 21,
   "id": "0f14a50f-808e-483f-b185-59c6063381b7",
   "metadata": {},
   "outputs": [
    {
     "name": "stdout",
     "output_type": "stream",
     "text": [
      "Correlation of columns with Output Variable:\n",
      "BloodChemistryIII_3            0.007992\n",
      "BloodChemistryIII_5            0.008073\n",
      "BloodChemistryIII_1            0.009007\n",
      "BloodChemistryIII_4            0.012458\n",
      "BloodChemistryIII_2            0.020471\n",
      "AirQualityIndex                0.052044\n",
      "BloodPressure                  0.065068\n",
      "SkinThickness                  0.074485\n",
      "BloodChemistryII               0.128310\n",
      "GeneticPredispositionFactor    0.173844\n",
      "Age                            0.189642\n",
      "Pregnancies                    0.221898\n",
      "BMI                            0.292695\n",
      "BloodChemistryI                0.465168\n",
      "Unique_ID                      0.825567\n",
      "Outcome                        1.000000\n",
      "Name: Outcome, dtype: float64\n"
     ]
    },
    {
     "data": {
      "image/png": "[encoded data removed]",
      "text/plain": [
       "<Figure size 864x720 with 2 Axes>"
      ]
     },
     "metadata": {
      "needs_background": "light"
     },
     "output_type": "display_data"
    }
   ],
   "source": [
    "#Correlation with output variable\n",
    "cor = df.corr()\n",
    "cor_target = abs(cor[\"Outcome\"])\n",
    "print(\"Correlation of columns with Output Variable:\")\n",
    "print(cor_target.sort_values())\n",
    "# df.sort_values(by=['col1', 'col2'])\n",
    "\n",
    "#Using Pearson Correlation\n",
    "plt.figure(figsize=(12,10))\n",
    "sns.heatmap(cor, annot=True, cmap=plt.cm.Reds)\n",
    "plt.show()"
   ]
  },
  {
   "cell_type": "markdown",
   "id": "0a2c49cd-8fb7-4582-8ac3-3d127399a8e9",
   "metadata": {},
   "source": [
    "# Compare methods to find the best model for prediction of a disease.\n",
    "### We are going to be using supervised models, since we already know the outcome.\n",
    "\n",
    "#### Steps:\n",
    "\n",
    "1. Load and split the data into a train and test set.\n",
    "2. Train our models using the training data. The models we are testing include:\n",
    "    a. Logistic Regression  \n",
    "    b. Linear Discriminant Analysis  \n",
    "    c. K-Neighbours Classifier  \n",
    "    d. Decision Trees  \n",
    "    e. Random Forest  \n",
    "    f. Gaussian Naive Bayes  \n",
    "    g. Support Vector Machine  \n",
    "3. Plot a boxplot to compare results of training\n",
    "4. Find the accuracy score using the test dataset"
   ]
  },
  {
   "cell_type": "code",
   "execution_count": 22,
   "id": "84105295-58ea-4de2-a7f8-984fa1d84009",
   "metadata": {},
   "outputs": [
    {
     "data": {
      "text/plain": [
       "Index(['Unique_ID', 'Pregnancies', 'BloodChemistryI', 'BloodChemistryII',\n",
       "       'BloodPressure', 'SkinThickness', 'BMI', 'GeneticPredispositionFactor',\n",
       "       'Age', 'AirQualityIndex', 'Outcome', 'BloodChemistryIII_1',\n",
       "       'BloodChemistryIII_2', 'BloodChemistryIII_3', 'BloodChemistryIII_4',\n",
       "       'BloodChemistryIII_5'],\n",
       "      dtype='object')"
      ]
     },
     "execution_count": 22,
     "metadata": {},
     "output_type": "execute_result"
    }
   ],
   "source": [
    "df.columns"
   ]
  },
  {
   "cell_type": "markdown",
   "id": "5c430d52-22f5-4e34-b996-2dcacb0f84b2",
   "metadata": {},
   "source": [
    "##### Step 1."
   ]
  },
  {
   "cell_type": "code",
   "execution_count": 23,
   "id": "0b859e64-05d5-47eb-b220-2de3bd388ae3",
   "metadata": {},
   "outputs": [],
   "source": [
    "Columns = ['Pregnancies', 'BloodChemistryI','BMI','Age', 'BloodChemistryIII_1', 'BloodChemistryIII_2', 'BloodChemistryIII_3',\n",
    "           'BloodChemistryIII_4', 'BloodChemistryIII_5']\n",
    "\n",
    "X = df[Columns] \n",
    "Y = df[['Outcome']]  #the target output"
   ]
  },
  {
   "cell_type": "code",
   "execution_count": 24,
   "id": "d2ff3ed2-4feb-43f5-9491-67f448100b92",
   "metadata": {},
   "outputs": [],
   "source": [
    "X_train, X_test, y_train, y_test = train_test_split(X,Y,test_size=0.4,random_state=100)"
   ]
  },
  {
   "cell_type": "markdown",
   "id": "e68fca62-741f-4189-870e-68560fabe623",
   "metadata": {},
   "source": [
    "##### Step 2 & 3."
   ]
  },
  {
   "cell_type": "code",
   "execution_count": 65,
   "id": "9ed1c1eb-3770-4667-a472-8aa6695825b8",
   "metadata": {},
   "outputs": [],
   "source": [
    "# create all the machine learning models\n",
    "models = []\n",
    "models.append(('LR',  LogisticRegression()))\n",
    "models.append(('LDA', LinearDiscriminantAnalysis()))\n",
    "models.append(('KNN', KNeighborsClassifier()))\n",
    "models.append(('CART',DecisionTreeClassifier()))\n",
    "models.append(('RF',  RandomForestClassifier(n_estimators=10)))\n",
    "models.append(('NB',  GaussianNB()))\n",
    "models.append(('SVM', SVC(probability=True)))"
   ]
  },
  {
   "cell_type": "code",
   "execution_count": 66,
   "id": "116ec2fc-a9a2-47b9-9822-cb40c0bf7d5b",
   "metadata": {},
   "outputs": [
    {
     "name": "stdout",
     "output_type": "stream",
     "text": [
      "The mean training accuracy of the results are:\n",
      "LR: 0.747826 (0.080874)\n",
      "LDA: 0.758696 (0.074327)\n",
      "KNN: 0.691304 (0.085200)\n",
      "CART: 0.700000 (0.056522)\n",
      "RF: 0.743478 (0.071310)\n",
      "NB: 0.763043 (0.042876)\n",
      "SVM: 0.734783 (0.082951)\n"
     ]
    },
    {
     "data": {
      "image/png": "[encoded data removed]",
      "text/plain": [
       "<Figure size 540x252 with 1 Axes>"
      ]
     },
     "metadata": {
      "needs_background": "light"
     },
     "output_type": "display_data"
    }
   ],
   "source": [
    "# 10-fold cross validation\n",
    "print(\"The mean training accuracy of the results are:\")\n",
    "results = []\n",
    "names = []\n",
    "for name, model in models:\n",
    "#     kfold = KFold(n_splits=10, random_state=seed)\n",
    "    kfold = KFold(n_splits=10, random_state=None)\n",
    "    cv_results = cross_val_score(model, X_train, y_train, cv=kfold, scoring=\"accuracy\")\n",
    "    results.append(cv_results)\n",
    "    names.append(name)\n",
    "    msg = \"%s: %f (%f)\" % (name, cv_results.mean(), cv_results.std())\n",
    "    print(msg)\n",
    "\n",
    "# boxplot algorithm comparison\n",
    "fig = plt.figure()\n",
    "fig.suptitle('Machine Learning algorithm comparison')\n",
    "ax = fig.add_subplot(111)\n",
    "plt.boxplot(results)\n",
    "ax.set_xticklabels(names)\n",
    "plt.show()"
   ]
  },
  {
   "cell_type": "code",
   "execution_count": 68,
   "id": "7327c0d5-ab21-430c-b684-f7e18003cbe6",
   "metadata": {},
   "outputs": [],
   "source": [
    "clf_RF  = RandomForestClassifier(n_estimators=10, random_state=None)\n",
    "clf_RF.fit(X_train, y_train)\n",
    "y_pred_proba_RF = clf_RF.predict_proba(X_test)[::,1]\n",
    "fpr_RF, tpr_RF, _ = metrics.roc_curve(y_test,  y_pred_proba_RF) \n",
    "\n",
    "\n",
    "clf_LR  = LogisticRegression()\n",
    "clf_LR.fit(X_train, y_train)\n",
    "y_pred_proba_LR = clf_LR.predict_proba(X_test)[::,1]\n",
    "fpr_LR, tpr_LR, _ = metrics.roc_curve(y_test,  y_pred_proba_LR)\n",
    "\n",
    "\n",
    "clf_LDA  = LinearDiscriminantAnalysis()\n",
    "clf_LDA.fit(X_train, y_train)\n",
    "y_pred_proba_LDA = clf_LDA.predict_proba(X_test)[::,1]\n",
    "fpr_LDA, tpr_LDA, _ = metrics.roc_curve(y_test,  y_pred_proba_LDA)\n",
    "\n",
    "clf_KNN  = KNeighborsClassifier()\n",
    "clf_KNN.fit(X_train, y_train)\n",
    "y_pred_proba_KNN = clf_KNN.predict_proba(X_test)[::,1]\n",
    "fpr_KNN, tpr_KNN, _ = metrics.roc_curve(y_test,  y_pred_proba_KNN)\n",
    "\n",
    "\n",
    "clf_DT  = DecisionTreeClassifier(random_state=None)\n",
    "clf_DT.fit(X_train, y_train)\n",
    "y_pred_proba_DT = clf_DT.predict_proba(X_test)[::,1]\n",
    "fpr_DT, tpr_DT, _ = metrics.roc_curve(y_test,  y_pred_proba_DT)\n",
    "\n",
    "\n",
    "clf_NB  = GaussianNB()\n",
    "clf_NB.fit(X_train, y_train)\n",
    "y_pred_proba_NB= clf_NB.predict_proba(X_test)[::,1]\n",
    "fpr_NB, tpr_NB, _ = metrics.roc_curve(y_test,  y_pred_proba_NB)\n"
   ]
  },
  {
   "cell_type": "code",
   "execution_count": null,
   "id": "b3e8b616-16d7-41c1-ba65-5a8dca7d18c3",
   "metadata": {},
   "outputs": [],
   "source": []
  },
  {
   "cell_type": "markdown",
   "id": "e91266b5-3cff-47c2-9817-99f7e7392b47",
   "metadata": {},
   "source": [
    "##### Step 4. Evaluation"
   ]
  },
  {
   "cell_type": "markdown",
   "id": "fe9d61c0-b736-47f1-9236-df26493ba098",
   "metadata": {},
   "source": [
    "For classification models there are the following evaluation metrics we can use:\n",
    "\n",
    "1. Accuracy.\n",
    "\n",
    "Accuracy is used when there are equal or almost equal number of samples belonging to each class. Therefore since there are roughly 1300 unhealthy people sampled in comparison to the 2500 healthy people, we do not use the accuracy metric. Accuracy is used when there are equal or almost equal number of samples belonging to each class. Therefore since there are roughly 1300 unhealthy people sampled in comparison to the 2500 healthy people, we do not use the accuracy metric.\n",
    "     \n",
    "2. Logarithmic Loss.\n",
    "\n",
    "Log loss measures the UNCERTAINTY of the probabilities of the model by comparing them to the true labels and penalising the false classifications. Smaller the value, better is the model i.e. smaller the logloss, better is the model i.e. smaller the UNCERTAINTY, better is the model.Smaller the value, better is the model i.e. smaller the logloss, better is the model i.e. smaller the UNCERTAINTY, better is the model.Log loss measures the UNCERTAINTY of the probabilities of the model by comparing them to the true labels and penalising the false classifications. Smaller the value, better is the model i.e. smaller the logloss, better is the model i.e. smaller the UNCERTAINTY, better is the model.Smaller the value, better is the model i.e. smaller the logloss, better is the model i.e. smaller the UNCERTAINTY, better is the model.\n"
   ]
  },
  {
   "cell_type": "code",
   "execution_count": 43,
   "id": "d2311b74-5b6d-40f3-94c5-3266ae322b1e",
   "metadata": {},
   "outputs": [
    {
     "data": {
      "text/plain": [
       "{'logloss_LR': -0.5319842397494371,\n",
       " 'logloss_RF': -1.3822758685031704,\n",
       " 'logloss_LDA': -0.511686217326333,\n",
       " 'logloss_KNN': -2.35890035156057,\n",
       " 'logloss_CART': -10.587012700640894,\n",
       " 'logloss_NB': -0.5081153826234455,\n",
       " 'logloss_SVM': nan}"
      ]
     },
     "execution_count": 43,
     "metadata": {},
     "output_type": "execute_result"
    }
   ],
   "source": [
    "# calculate logloss\n",
    "\n",
    "logloss_LR = cross_val_score(LogisticRegression(), X_train, y_train, cv = kfold, scoring = 'neg_log_loss').mean()\n",
    "logloss_RF = cross_val_score(RandomForestClassifier(n_estimators=10), X_train, y_train, cv = kfold, scoring = 'neg_log_loss').mean()\n",
    "logloss_LDA = cross_val_score(LinearDiscriminantAnalysis(), X_train, y_train, cv = kfold, scoring = 'neg_log_loss').mean()\n",
    "logloss_KNN = cross_val_score(KNeighborsClassifier(), X_train, y_train, cv = kfold, scoring = 'neg_log_loss').mean()\n",
    "logloss_CART = cross_val_score(DecisionTreeClassifier(), X_train, y_train, cv = kfold, scoring = 'neg_log_loss').mean()\n",
    "logloss_NB = cross_val_score(GaussianNB(), X_train, y_train, cv = kfold, scoring = 'neg_log_loss').mean()\n",
    "logloss_SVM = cross_val_score(SVC(), X_train, y_train, cv = kfold, scoring = 'neg_log_loss').mean()\n",
    "\n",
    "Logloss_results = {'logloss_LR': logloss_LR,\n",
    "        'logloss_RF':logloss_RF, \n",
    "        'logloss_LDA':logloss_LDA, \n",
    "        'logloss_KNN':logloss_KNN, \n",
    "        'logloss_CART':logloss_CART, \n",
    "        'logloss_NB':logloss_NB, \n",
    "        'logloss_SVM':logloss_SVM }\n",
    "\n",
    "Logloss_results"
   ]
  },
  {
   "cell_type": "markdown",
   "id": "e2e8ddc7-b7ad-4276-b99d-282076342199",
   "metadata": {},
   "source": [
    "From the above results of Logloss we see that the smallest value is Decision Trees. Therefore suggesting it has the least amount of uncertainty.\n",
    "\n",
    "3. ROC"
   ]
  },
  {
   "cell_type": "code",
   "execution_count": 71,
   "id": "61a7d3d7-b677-408c-8a6a-bcda3f7808d9",
   "metadata": {},
   "outputs": [
    {
     "data": {
      "image/png": "[encoded data removed]",
      "text/plain": [
       "<Figure size 540x252 with 1 Axes>"
      ]
     },
     "metadata": {
      "needs_background": "light"
     },
     "output_type": "display_data"
    }
   ],
   "source": [
    "plt.plot(fpr_RF, tpr_RF, label=\"RandomForest\")\n",
    "plt.plot(fpr_LR, tpr_LR, label=\"LogRegression\")\n",
    "plt.plot(fpr_LDA, tpr_LDA, label=\"LDA\")\n",
    "plt.plot(fpr_KNN, tpr_KNN, label=\"KNN\")\n",
    "plt.plot(fpr_DT, tpr_DT, label=\"DecisionTree\")\n",
    "plt.plot(fpr_NB, tpr_NB, label=\"NaivesBayes\")\n",
    "\n",
    "plt.xlim([0.0, 1.0])\n",
    "plt.ylim([0.0, 1.0])\n",
    "plt.rcParams['font.size'] = 12\n",
    "plt.title('ROC curve')\n",
    "plt.xlabel('False Positive Rate (1 - Specificity)')\n",
    "plt.ylabel('True Positive Rate (Sensitivity)')\n",
    "plt.legend(loc=\"lower right\", fontsize=10)\n",
    "plt.grid(True)"
   ]
  },
  {
   "cell_type": "markdown",
   "id": "dcb25a99-6b26-44d1-8c48-9468bd54a28f",
   "metadata": {},
   "source": [
    "If we have a perfect model, all the events will have a probability score of 1 and all non-events will have a score of 0. For such a model, the area under the ROC will be a perfect 1.\n",
    "\n",
    "So, if we trace the curve from bottom left, the value of probability cutoff decreases from 1 towards 0. If we have a good model, more of the real events should be predicted as events, resulting in high sensitivity and low FPR. In that case, the curve will rise steeply covering a large area before reaching the top-right.\n",
    "\n",
    "Therefore, the larger the area under the ROC curve, the better is the model.\n",
    "\n",
    "From the curves above we can concude that LDA and Logistic Regression are the top performers.\n",
    "\n",
    "Other metrics include:\n",
    "\n",
    "3.5. AUC\n",
    "4. Confusion Matrix.\n",
    "5. Classification Report."
   ]
  },
  {
   "cell_type": "code",
   "execution_count": null,
   "id": "24c75299-fc86-4739-8828-b1279bd37e86",
   "metadata": {},
   "outputs": [],
   "source": []
  }
 ],
 "metadata": {
  "kernelspec": {
   "display_name": "Python 3",
   "language": "python",
   "name": "python3"
  },
  "language_info": {
   "codemirror_mode": {
    "name": "ipython",
    "version": 3
   },
   "file_extension": ".py",
   "mimetype": "text/x-python",
   "name": "python",
   "nbconvert_exporter": "python",
   "pygments_lexer": "ipython3",
   "version": "3.8.8"
  }
 },
 "nbformat": 4,
 "nbformat_minor": 5
}
